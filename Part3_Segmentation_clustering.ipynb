{
 "cells": [
  {
   "cell_type": "markdown",
   "metadata": {},
   "source": [
    "# PART 1"
   ]
  },
  {
   "cell_type": "markdown",
   "metadata": {},
   "source": [
    "## First import necessary libraries"
   ]
  },
  {
   "cell_type": "code",
   "execution_count": 7,
   "metadata": {},
   "outputs": [
    {
     "name": "stdout",
     "output_type": "stream",
     "text": [
      "Done importing libraries.\n"
     ]
    }
   ],
   "source": [
    "import numpy as np\n",
    "import pandas as pd\n",
    "pd.set_option(\"display.max_columns\", None)\n",
    "pd.set_option(\"display.max_rows\", None)\n",
    "\n",
    "import json\n",
    "from geopy.geocoders import Nominatim\n",
    "import requests\n",
    "from bs4 import BeautifulSoup\n",
    "from pandas.io.json import json_normalize\n",
    "import matplotlib.cm as cm\n",
    "import matplotlib.colors as colors\n",
    "from sklearn.cluster import KMeans\n",
    "import folium\n",
    "\n",
    "print(\"Done importing libraries.\")"
   ]
  },
  {
   "cell_type": "markdown",
   "metadata": {},
   "source": [
    "## Full process for web scraping wikipedia page into a dataframe"
   ]
  },
  {
   "cell_type": "markdown",
   "metadata": {},
   "source": [
    "#### 1. scrape the data and make a beautiful soup object"
   ]
  },
  {
   "cell_type": "code",
   "execution_count": 8,
   "metadata": {},
   "outputs": [],
   "source": [
    "webdata = requests.get('https://en.wikipedia.org/wiki/List_of_postal_codes_of_Canada:_M').text\n",
    "soupobj = BeautifulSoup(webdata, 'html.parser')"
   ]
  },
  {
   "cell_type": "markdown",
   "metadata": {},
   "source": [
    "#### list placeholders for postal code, borough names and neighborhoods"
   ]
  },
  {
   "cell_type": "code",
   "execution_count": 9,
   "metadata": {},
   "outputs": [],
   "source": [
    "postcode = []\n",
    "borough = []\n",
    "neighborhood = []"
   ]
  },
  {
   "cell_type": "markdown",
   "metadata": {},
   "source": [
    "#### 2. look for table and get all data within cells using a for loop"
   ]
  },
  {
   "cell_type": "code",
   "execution_count": 10,
   "metadata": {},
   "outputs": [],
   "source": [
    "soupobj.find('table').find_all('tr')\n",
    "for i in soupobj.find('table').find_all('tr'):\n",
    "    cells = i.find_all('td')"
   ]
  },
  {
   "cell_type": "markdown",
   "metadata": {},
   "source": [
    "#### 3. fill the lists with respective data by looping"
   ]
  },
  {
   "cell_type": "code",
   "execution_count": 11,
   "metadata": {},
   "outputs": [],
   "source": [
    "for j in soupobj.find('table').find_all('tr'):\n",
    "    cells = j.find_all('td')\n",
    "    if(len(cells) > 0):\n",
    "        postcode.append(cells[0].text)\n",
    "        borough.append(cells[1].text)\n",
    "        neighborhood.append(cells[2].text.rstrip('\\n')) # prevent new line"
   ]
  },
  {
   "cell_type": "markdown",
   "metadata": {},
   "source": [
    "#### 4. make a dataframe using filled lists"
   ]
  },
  {
   "cell_type": "code",
   "execution_count": 12,
   "metadata": {},
   "outputs": [
    {
     "data": {
      "text/html": [
       "<div>\n",
       "<style scoped>\n",
       "    .dataframe tbody tr th:only-of-type {\n",
       "        vertical-align: middle;\n",
       "    }\n",
       "\n",
       "    .dataframe tbody tr th {\n",
       "        vertical-align: top;\n",
       "    }\n",
       "\n",
       "    .dataframe thead th {\n",
       "        text-align: right;\n",
       "    }\n",
       "</style>\n",
       "<table border=\"1\" class=\"dataframe\">\n",
       "  <thead>\n",
       "    <tr style=\"text-align: right;\">\n",
       "      <th></th>\n",
       "      <th>PostalCode</th>\n",
       "      <th>BoroughName</th>\n",
       "      <th>NeighborhoodName</th>\n",
       "    </tr>\n",
       "  </thead>\n",
       "  <tbody>\n",
       "    <tr>\n",
       "      <th>0</th>\n",
       "      <td>M1A</td>\n",
       "      <td>Not assigned</td>\n",
       "      <td>Not assigned</td>\n",
       "    </tr>\n",
       "    <tr>\n",
       "      <th>1</th>\n",
       "      <td>M2A</td>\n",
       "      <td>Not assigned</td>\n",
       "      <td>Not assigned</td>\n",
       "    </tr>\n",
       "    <tr>\n",
       "      <th>2</th>\n",
       "      <td>M3A</td>\n",
       "      <td>North York</td>\n",
       "      <td>Parkwoods</td>\n",
       "    </tr>\n",
       "    <tr>\n",
       "      <th>3</th>\n",
       "      <td>M4A</td>\n",
       "      <td>North York</td>\n",
       "      <td>Victoria Village</td>\n",
       "    </tr>\n",
       "    <tr>\n",
       "      <th>4</th>\n",
       "      <td>M5A</td>\n",
       "      <td>Downtown Toronto</td>\n",
       "      <td>Harbourfront</td>\n",
       "    </tr>\n",
       "  </tbody>\n",
       "</table>\n",
       "</div>"
      ],
      "text/plain": [
       "  PostalCode       BoroughName  NeighborhoodName\n",
       "0        M1A      Not assigned      Not assigned\n",
       "1        M2A      Not assigned      Not assigned\n",
       "2        M3A        North York         Parkwoods\n",
       "3        M4A        North York  Victoria Village\n",
       "4        M5A  Downtown Toronto      Harbourfront"
      ]
     },
     "execution_count": 12,
     "metadata": {},
     "output_type": "execute_result"
    }
   ],
   "source": [
    "toronto1 = pd.DataFrame({\"PostalCode\": postcode, \"BoroughName\": borough, \"NeighborhoodName\": neighborhood})\n",
    "toronto1.head()"
   ]
  },
  {
   "cell_type": "markdown",
   "metadata": {},
   "source": [
    "#### 5. drop rows with \"Not assigned\" boroughs"
   ]
  },
  {
   "cell_type": "code",
   "execution_count": 13,
   "metadata": {},
   "outputs": [
    {
     "data": {
      "text/html": [
       "<div>\n",
       "<style scoped>\n",
       "    .dataframe tbody tr th:only-of-type {\n",
       "        vertical-align: middle;\n",
       "    }\n",
       "\n",
       "    .dataframe tbody tr th {\n",
       "        vertical-align: top;\n",
       "    }\n",
       "\n",
       "    .dataframe thead th {\n",
       "        text-align: right;\n",
       "    }\n",
       "</style>\n",
       "<table border=\"1\" class=\"dataframe\">\n",
       "  <thead>\n",
       "    <tr style=\"text-align: right;\">\n",
       "      <th></th>\n",
       "      <th>PostalCode</th>\n",
       "      <th>BoroughName</th>\n",
       "      <th>NeighborhoodName</th>\n",
       "    </tr>\n",
       "  </thead>\n",
       "  <tbody>\n",
       "    <tr>\n",
       "      <th>0</th>\n",
       "      <td>M3A</td>\n",
       "      <td>North York</td>\n",
       "      <td>Parkwoods</td>\n",
       "    </tr>\n",
       "    <tr>\n",
       "      <th>1</th>\n",
       "      <td>M4A</td>\n",
       "      <td>North York</td>\n",
       "      <td>Victoria Village</td>\n",
       "    </tr>\n",
       "    <tr>\n",
       "      <th>2</th>\n",
       "      <td>M5A</td>\n",
       "      <td>Downtown Toronto</td>\n",
       "      <td>Harbourfront</td>\n",
       "    </tr>\n",
       "    <tr>\n",
       "      <th>3</th>\n",
       "      <td>M6A</td>\n",
       "      <td>North York</td>\n",
       "      <td>Lawrence Heights</td>\n",
       "    </tr>\n",
       "    <tr>\n",
       "      <th>4</th>\n",
       "      <td>M6A</td>\n",
       "      <td>North York</td>\n",
       "      <td>Lawrence Manor</td>\n",
       "    </tr>\n",
       "  </tbody>\n",
       "</table>\n",
       "</div>"
      ],
      "text/plain": [
       "  PostalCode       BoroughName  NeighborhoodName\n",
       "0        M3A        North York         Parkwoods\n",
       "1        M4A        North York  Victoria Village\n",
       "2        M5A  Downtown Toronto      Harbourfront\n",
       "3        M6A        North York  Lawrence Heights\n",
       "4        M6A        North York    Lawrence Manor"
      ]
     },
     "execution_count": 13,
     "metadata": {},
     "output_type": "execute_result"
    }
   ],
   "source": [
    "toronto2 = toronto1[toronto1.BoroughName != \"Not assigned\"].reset_index(drop=True)\n",
    "toronto2.head()"
   ]
  },
  {
   "cell_type": "markdown",
   "metadata": {},
   "source": [
    "#### 6. clump together neighborhoods in same borough"
   ]
  },
  {
   "cell_type": "code",
   "execution_count": 14,
   "metadata": {},
   "outputs": [
    {
     "data": {
      "text/html": [
       "<div>\n",
       "<style scoped>\n",
       "    .dataframe tbody tr th:only-of-type {\n",
       "        vertical-align: middle;\n",
       "    }\n",
       "\n",
       "    .dataframe tbody tr th {\n",
       "        vertical-align: top;\n",
       "    }\n",
       "\n",
       "    .dataframe thead th {\n",
       "        text-align: right;\n",
       "    }\n",
       "</style>\n",
       "<table border=\"1\" class=\"dataframe\">\n",
       "  <thead>\n",
       "    <tr style=\"text-align: right;\">\n",
       "      <th></th>\n",
       "      <th>PostalCode</th>\n",
       "      <th>BoroughName</th>\n",
       "      <th>NeighborhoodName</th>\n",
       "    </tr>\n",
       "  </thead>\n",
       "  <tbody>\n",
       "    <tr>\n",
       "      <th>0</th>\n",
       "      <td>M1B</td>\n",
       "      <td>Scarborough</td>\n",
       "      <td>Rouge, Malvern</td>\n",
       "    </tr>\n",
       "    <tr>\n",
       "      <th>1</th>\n",
       "      <td>M1C</td>\n",
       "      <td>Scarborough</td>\n",
       "      <td>Highland Creek, Rouge Hill, Port Union</td>\n",
       "    </tr>\n",
       "    <tr>\n",
       "      <th>2</th>\n",
       "      <td>M1E</td>\n",
       "      <td>Scarborough</td>\n",
       "      <td>Guildwood, Morningside, West Hill</td>\n",
       "    </tr>\n",
       "    <tr>\n",
       "      <th>3</th>\n",
       "      <td>M1G</td>\n",
       "      <td>Scarborough</td>\n",
       "      <td>Woburn</td>\n",
       "    </tr>\n",
       "    <tr>\n",
       "      <th>4</th>\n",
       "      <td>M1H</td>\n",
       "      <td>Scarborough</td>\n",
       "      <td>Cedarbrae</td>\n",
       "    </tr>\n",
       "  </tbody>\n",
       "</table>\n",
       "</div>"
      ],
      "text/plain": [
       "  PostalCode  BoroughName                        NeighborhoodName\n",
       "0        M1B  Scarborough                          Rouge, Malvern\n",
       "1        M1C  Scarborough  Highland Creek, Rouge Hill, Port Union\n",
       "2        M1E  Scarborough       Guildwood, Morningside, West Hill\n",
       "3        M1G  Scarborough                                  Woburn\n",
       "4        M1H  Scarborough                               Cedarbrae"
      ]
     },
     "execution_count": 14,
     "metadata": {},
     "output_type": "execute_result"
    }
   ],
   "source": [
    "toronto3 = toronto2.groupby([\"PostalCode\", \"BoroughName\"], as_index=False).agg(lambda x: \", \".join(x))\n",
    "toronto3.head()"
   ]
  },
  {
   "cell_type": "markdown",
   "metadata": {},
   "source": [
    "#### 7. if a cell has a borough but a \"Not assigned\" neighborhood, then the neighborhood will be the same as the borough"
   ]
  },
  {
   "cell_type": "code",
   "execution_count": 15,
   "metadata": {},
   "outputs": [
    {
     "data": {
      "text/html": [
       "<div>\n",
       "<style scoped>\n",
       "    .dataframe tbody tr th:only-of-type {\n",
       "        vertical-align: middle;\n",
       "    }\n",
       "\n",
       "    .dataframe tbody tr th {\n",
       "        vertical-align: top;\n",
       "    }\n",
       "\n",
       "    .dataframe thead th {\n",
       "        text-align: right;\n",
       "    }\n",
       "</style>\n",
       "<table border=\"1\" class=\"dataframe\">\n",
       "  <thead>\n",
       "    <tr style=\"text-align: right;\">\n",
       "      <th></th>\n",
       "      <th>PostalCode</th>\n",
       "      <th>BoroughName</th>\n",
       "      <th>NeighborhoodName</th>\n",
       "    </tr>\n",
       "  </thead>\n",
       "  <tbody>\n",
       "    <tr>\n",
       "      <th>0</th>\n",
       "      <td>M1B</td>\n",
       "      <td>Scarborough</td>\n",
       "      <td>Rouge, Malvern</td>\n",
       "    </tr>\n",
       "    <tr>\n",
       "      <th>1</th>\n",
       "      <td>M1C</td>\n",
       "      <td>Scarborough</td>\n",
       "      <td>Highland Creek, Rouge Hill, Port Union</td>\n",
       "    </tr>\n",
       "    <tr>\n",
       "      <th>2</th>\n",
       "      <td>M1E</td>\n",
       "      <td>Scarborough</td>\n",
       "      <td>Guildwood, Morningside, West Hill</td>\n",
       "    </tr>\n",
       "    <tr>\n",
       "      <th>3</th>\n",
       "      <td>M1G</td>\n",
       "      <td>Scarborough</td>\n",
       "      <td>Woburn</td>\n",
       "    </tr>\n",
       "    <tr>\n",
       "      <th>4</th>\n",
       "      <td>M1H</td>\n",
       "      <td>Scarborough</td>\n",
       "      <td>Cedarbrae</td>\n",
       "    </tr>\n",
       "  </tbody>\n",
       "</table>\n",
       "</div>"
      ],
      "text/plain": [
       "  PostalCode  BoroughName                        NeighborhoodName\n",
       "0        M1B  Scarborough                          Rouge, Malvern\n",
       "1        M1C  Scarborough  Highland Creek, Rouge Hill, Port Union\n",
       "2        M1E  Scarborough       Guildwood, Morningside, West Hill\n",
       "3        M1G  Scarborough                                  Woburn\n",
       "4        M1H  Scarborough                               Cedarbrae"
      ]
     },
     "execution_count": 15,
     "metadata": {},
     "output_type": "execute_result"
    }
   ],
   "source": [
    "for i, j in toronto3.iterrows():\n",
    "    if j[\"NeighborhoodName\"] == \"Not assigned\":\n",
    "        j[\"NeighborhoodName\"] = j[\"BoroughName\"]\n",
    "        \n",
    "toronto3.head()"
   ]
  },
  {
   "cell_type": "markdown",
   "metadata": {},
   "source": [
    "#### 8. (optional) test output accuracy by comparing with question example"
   ]
  },
  {
   "cell_type": "code",
   "execution_count": 16,
   "metadata": {},
   "outputs": [
    {
     "data": {
      "text/html": [
       "<div>\n",
       "<style scoped>\n",
       "    .dataframe tbody tr th:only-of-type {\n",
       "        vertical-align: middle;\n",
       "    }\n",
       "\n",
       "    .dataframe tbody tr th {\n",
       "        vertical-align: top;\n",
       "    }\n",
       "\n",
       "    .dataframe thead th {\n",
       "        text-align: right;\n",
       "    }\n",
       "</style>\n",
       "<table border=\"1\" class=\"dataframe\">\n",
       "  <thead>\n",
       "    <tr style=\"text-align: right;\">\n",
       "      <th></th>\n",
       "      <th>PostalCode</th>\n",
       "      <th>BoroughName</th>\n",
       "      <th>NeighborhoodName</th>\n",
       "    </tr>\n",
       "  </thead>\n",
       "  <tbody>\n",
       "    <tr>\n",
       "      <th>0</th>\n",
       "      <td>M5G</td>\n",
       "      <td>Downtown Toronto</td>\n",
       "      <td>Central Bay Street</td>\n",
       "    </tr>\n",
       "    <tr>\n",
       "      <th>1</th>\n",
       "      <td>M2H</td>\n",
       "      <td>North York</td>\n",
       "      <td>Hillcrest Village</td>\n",
       "    </tr>\n",
       "    <tr>\n",
       "      <th>2</th>\n",
       "      <td>M4B</td>\n",
       "      <td>East York</td>\n",
       "      <td>Woodbine Gardens, Parkview Hill</td>\n",
       "    </tr>\n",
       "    <tr>\n",
       "      <th>3</th>\n",
       "      <td>M1J</td>\n",
       "      <td>Scarborough</td>\n",
       "      <td>Scarborough Village</td>\n",
       "    </tr>\n",
       "    <tr>\n",
       "      <th>4</th>\n",
       "      <td>M4G</td>\n",
       "      <td>East York</td>\n",
       "      <td>Leaside</td>\n",
       "    </tr>\n",
       "    <tr>\n",
       "      <th>5</th>\n",
       "      <td>M4M</td>\n",
       "      <td>East Toronto</td>\n",
       "      <td>Studio District</td>\n",
       "    </tr>\n",
       "    <tr>\n",
       "      <th>6</th>\n",
       "      <td>M1R</td>\n",
       "      <td>Scarborough</td>\n",
       "      <td>Maryvale, Wexford</td>\n",
       "    </tr>\n",
       "    <tr>\n",
       "      <th>7</th>\n",
       "      <td>M9V</td>\n",
       "      <td>Etobicoke</td>\n",
       "      <td>Albion Gardens, Beaumond Heights, Humbergate, ...</td>\n",
       "    </tr>\n",
       "    <tr>\n",
       "      <th>8</th>\n",
       "      <td>M9L</td>\n",
       "      <td>North York</td>\n",
       "      <td>Humber Summit</td>\n",
       "    </tr>\n",
       "    <tr>\n",
       "      <th>9</th>\n",
       "      <td>M5V</td>\n",
       "      <td>Downtown Toronto</td>\n",
       "      <td>CN Tower, Bathurst Quay, Island airport, Harbo...</td>\n",
       "    </tr>\n",
       "    <tr>\n",
       "      <th>10</th>\n",
       "      <td>M1B</td>\n",
       "      <td>Scarborough</td>\n",
       "      <td>Rouge, Malvern</td>\n",
       "    </tr>\n",
       "    <tr>\n",
       "      <th>11</th>\n",
       "      <td>M5A</td>\n",
       "      <td>Downtown Toronto</td>\n",
       "      <td>Harbourfront</td>\n",
       "    </tr>\n",
       "  </tbody>\n",
       "</table>\n",
       "</div>"
      ],
      "text/plain": [
       "   PostalCode       BoroughName  \\\n",
       "0         M5G  Downtown Toronto   \n",
       "1         M2H        North York   \n",
       "2         M4B         East York   \n",
       "3         M1J       Scarborough   \n",
       "4         M4G         East York   \n",
       "5         M4M      East Toronto   \n",
       "6         M1R       Scarborough   \n",
       "7         M9V         Etobicoke   \n",
       "8         M9L        North York   \n",
       "9         M5V  Downtown Toronto   \n",
       "10        M1B       Scarborough   \n",
       "11        M5A  Downtown Toronto   \n",
       "\n",
       "                                     NeighborhoodName  \n",
       "0                                  Central Bay Street  \n",
       "1                                   Hillcrest Village  \n",
       "2                     Woodbine Gardens, Parkview Hill  \n",
       "3                                 Scarborough Village  \n",
       "4                                             Leaside  \n",
       "5                                     Studio District  \n",
       "6                                   Maryvale, Wexford  \n",
       "7   Albion Gardens, Beaumond Heights, Humbergate, ...  \n",
       "8                                       Humber Summit  \n",
       "9   CN Tower, Bathurst Quay, Island airport, Harbo...  \n",
       "10                                     Rouge, Malvern  \n",
       "11                                       Harbourfront  "
      ]
     },
     "execution_count": 16,
     "metadata": {},
     "output_type": "execute_result"
    }
   ],
   "source": [
    "test_col = [\"PostalCode\", \"BoroughName\", \"NeighborhoodName\"]\n",
    "test_df = pd.DataFrame(columns=test_col)\n",
    "\n",
    "test_pc = [\"M5G\", \"M2H\", \"M4B\", \"M1J\", \"M4G\", \"M4M\", \"M1R\", \"M9V\", \"M9L\", \"M5V\", \"M1B\", \"M5A\"]\n",
    "\n",
    "for i in test_pc:\n",
    "    test_df = test_df.append(toronto3[toronto3[\"PostalCode\"]==i], ignore_index=True)\n",
    "    \n",
    "test_df"
   ]
  },
  {
   "cell_type": "markdown",
   "metadata": {},
   "source": [
    "#### 9. visually check if above test is accurate, rename toronto3 to toronto_clean and use shape"
   ]
  },
  {
   "cell_type": "code",
   "execution_count": 17,
   "metadata": {},
   "outputs": [
    {
     "data": {
      "text/plain": [
       "(103, 3)"
      ]
     },
     "execution_count": 17,
     "metadata": {},
     "output_type": "execute_result"
    }
   ],
   "source": [
    "toronto_clean = toronto3\n",
    "toronto_clean.shape"
   ]
  },
  {
   "cell_type": "markdown",
   "metadata": {},
   "source": [
    "# PART 2\n",
    "#### 10. using csv file with coordinates and appending to toronto_clean and call new dataframe \"toronto_latlon\""
   ]
  },
  {
   "cell_type": "code",
   "execution_count": 18,
   "metadata": {},
   "outputs": [
    {
     "data": {
      "text/html": [
       "<div>\n",
       "<style scoped>\n",
       "    .dataframe tbody tr th:only-of-type {\n",
       "        vertical-align: middle;\n",
       "    }\n",
       "\n",
       "    .dataframe tbody tr th {\n",
       "        vertical-align: top;\n",
       "    }\n",
       "\n",
       "    .dataframe thead th {\n",
       "        text-align: right;\n",
       "    }\n",
       "</style>\n",
       "<table border=\"1\" class=\"dataframe\">\n",
       "  <thead>\n",
       "    <tr style=\"text-align: right;\">\n",
       "      <th></th>\n",
       "      <th>PostalCode</th>\n",
       "      <th>Latitude</th>\n",
       "      <th>Longitude</th>\n",
       "    </tr>\n",
       "  </thead>\n",
       "  <tbody>\n",
       "    <tr>\n",
       "      <th>0</th>\n",
       "      <td>M1B</td>\n",
       "      <td>43.806686</td>\n",
       "      <td>-79.194353</td>\n",
       "    </tr>\n",
       "    <tr>\n",
       "      <th>1</th>\n",
       "      <td>M1C</td>\n",
       "      <td>43.784535</td>\n",
       "      <td>-79.160497</td>\n",
       "    </tr>\n",
       "    <tr>\n",
       "      <th>2</th>\n",
       "      <td>M1E</td>\n",
       "      <td>43.763573</td>\n",
       "      <td>-79.188711</td>\n",
       "    </tr>\n",
       "    <tr>\n",
       "      <th>3</th>\n",
       "      <td>M1G</td>\n",
       "      <td>43.770992</td>\n",
       "      <td>-79.216917</td>\n",
       "    </tr>\n",
       "    <tr>\n",
       "      <th>4</th>\n",
       "      <td>M1H</td>\n",
       "      <td>43.773136</td>\n",
       "      <td>-79.239476</td>\n",
       "    </tr>\n",
       "  </tbody>\n",
       "</table>\n",
       "</div>"
      ],
      "text/plain": [
       "  PostalCode   Latitude  Longitude\n",
       "0        M1B  43.806686 -79.194353\n",
       "1        M1C  43.784535 -79.160497\n",
       "2        M1E  43.763573 -79.188711\n",
       "3        M1G  43.770992 -79.216917\n",
       "4        M1H  43.773136 -79.239476"
      ]
     },
     "execution_count": 18,
     "metadata": {},
     "output_type": "execute_result"
    }
   ],
   "source": [
    "csvfile={'file':'https://cocl.us/Geospatial_data'}\n",
    "latlon = pd.read_csv(csvfile[\"file\"])\n",
    "latlon = latlon.rename(columns={\"Postal Code\": \"PostalCode\"}) #necessary to rename without space\n",
    "latlon.head()"
   ]
  },
  {
   "cell_type": "code",
   "execution_count": 29,
   "metadata": {},
   "outputs": [
    {
     "data": {
      "text/html": [
       "<div>\n",
       "<style scoped>\n",
       "    .dataframe tbody tr th:only-of-type {\n",
       "        vertical-align: middle;\n",
       "    }\n",
       "\n",
       "    .dataframe tbody tr th {\n",
       "        vertical-align: top;\n",
       "    }\n",
       "\n",
       "    .dataframe thead th {\n",
       "        text-align: right;\n",
       "    }\n",
       "</style>\n",
       "<table border=\"1\" class=\"dataframe\">\n",
       "  <thead>\n",
       "    <tr style=\"text-align: right;\">\n",
       "      <th></th>\n",
       "      <th>PostalCode</th>\n",
       "      <th>BoroughName</th>\n",
       "      <th>NeighborhoodName</th>\n",
       "      <th>Latitude</th>\n",
       "      <th>Longitude</th>\n",
       "    </tr>\n",
       "  </thead>\n",
       "  <tbody>\n",
       "    <tr>\n",
       "      <th>0</th>\n",
       "      <td>M1B</td>\n",
       "      <td>Scarborough</td>\n",
       "      <td>Rouge, Malvern</td>\n",
       "      <td>43.806686</td>\n",
       "      <td>-79.194353</td>\n",
       "    </tr>\n",
       "    <tr>\n",
       "      <th>1</th>\n",
       "      <td>M1C</td>\n",
       "      <td>Scarborough</td>\n",
       "      <td>Highland Creek, Rouge Hill, Port Union</td>\n",
       "      <td>43.784535</td>\n",
       "      <td>-79.160497</td>\n",
       "    </tr>\n",
       "    <tr>\n",
       "      <th>2</th>\n",
       "      <td>M1E</td>\n",
       "      <td>Scarborough</td>\n",
       "      <td>Guildwood, Morningside, West Hill</td>\n",
       "      <td>43.763573</td>\n",
       "      <td>-79.188711</td>\n",
       "    </tr>\n",
       "    <tr>\n",
       "      <th>3</th>\n",
       "      <td>M1G</td>\n",
       "      <td>Scarborough</td>\n",
       "      <td>Woburn</td>\n",
       "      <td>43.770992</td>\n",
       "      <td>-79.216917</td>\n",
       "    </tr>\n",
       "    <tr>\n",
       "      <th>4</th>\n",
       "      <td>M1H</td>\n",
       "      <td>Scarborough</td>\n",
       "      <td>Cedarbrae</td>\n",
       "      <td>43.773136</td>\n",
       "      <td>-79.239476</td>\n",
       "    </tr>\n",
       "  </tbody>\n",
       "</table>\n",
       "</div>"
      ],
      "text/plain": [
       "  PostalCode  BoroughName                        NeighborhoodName   Latitude  \\\n",
       "0        M1B  Scarborough                          Rouge, Malvern  43.806686   \n",
       "1        M1C  Scarborough  Highland Creek, Rouge Hill, Port Union  43.784535   \n",
       "2        M1E  Scarborough       Guildwood, Morningside, West Hill  43.763573   \n",
       "3        M1G  Scarborough                                  Woburn  43.770992   \n",
       "4        M1H  Scarborough                               Cedarbrae  43.773136   \n",
       "\n",
       "   Longitude  \n",
       "0 -79.194353  \n",
       "1 -79.160497  \n",
       "2 -79.188711  \n",
       "3 -79.216917  \n",
       "4 -79.239476  "
      ]
     },
     "execution_count": 29,
     "metadata": {},
     "output_type": "execute_result"
    }
   ],
   "source": [
    "toronto_latlon = toronto_clean.merge(latlon, on=\"PostalCode\", how=\"left\")\n",
    "toronto_latlon.head()"
   ]
  },
  {
   "cell_type": "markdown",
   "metadata": {},
   "source": [
    "# PART 3"
   ]
  },
  {
   "cell_type": "markdown",
   "metadata": {},
   "source": [
    "#### 11. using geopy for latitude longitude data for selected city (Toronto)"
   ]
  },
  {
   "cell_type": "code",
   "execution_count": 20,
   "metadata": {},
   "outputs": [
    {
     "name": "stdout",
     "output_type": "stream",
     "text": [
      "Toronto latitude and longitude respectively 43.653963, -79.387207.\n"
     ]
    }
   ],
   "source": [
    "from geopy.geocoders import Nominatim\n",
    "\n",
    "cityname = 'Toronto'\n",
    "\n",
    "geo = Nominatim(user_agent=\"my-application\")\n",
    "loc = geo.geocode(cityname)\n",
    "lat = loc.latitude\n",
    "lon = loc.longitude\n",
    "print('Toronto latitude and longitude respectively {}, {}.'.format(lat, lon))"
   ]
  },
  {
   "cell_type": "markdown",
   "metadata": {},
   "source": [
    "#### 12. map of toronto"
   ]
  },
  {
   "cell_type": "markdown",
   "metadata": {},
   "source": [
    "##### import more libraries"
   ]
  },
  {
   "cell_type": "code",
   "execution_count": null,
   "metadata": {},
   "outputs": [],
   "source": [
    "import folium"
   ]
  },
  {
   "cell_type": "markdown",
   "metadata": {},
   "source": [
    "##### map with round markers of radius = 2.5 and color=black"
   ]
  },
  {
   "cell_type": "code",
   "execution_count": 25,
   "metadata": {},
   "outputs": [
    {
     "data": {
      "text/html": [
       "<div style=\"width:100%;\"><div style=\"position:relative;width:100%;height:0;padding-bottom:60%;\"><iframe src=\"data:text/html;charset=utf-8;base64,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\" style=\"position:absolute;width:100%;height:100%;left:0;top:0;border:none !important;\" allowfullscreen webkitallowfullscreen mozallowfullscreen></iframe></div></div>"
      ],
      "text/plain": [
       "<folium.folium.Map at 0x7ff9520e17b8>"
      ]
     },
     "execution_count": 25,
     "metadata": {},
     "output_type": "execute_result"
    }
   ],
   "source": [
    "toronto_map = folium.Map(location=[lat, lon], zoom_start=10)\n",
    "\n",
    "\n",
    "for lt, ln, bor, nei in zip(toronto_latlon['Latitude'], toronto_latlon['Longitude'], \n",
    "                            toronto_latlon['BoroughName'], toronto_latlon['NeighborhoodName']):\n",
    "    label = '{}, {}'.format(nei, bor)\n",
    "    label = folium.Popup(label, parse_html=True)\n",
    "    folium.CircleMarker(\n",
    "        [lt, ln],\n",
    "        radius=2.5,\n",
    "        popup=label,\n",
    "        color='black',\n",
    "        fill=True,\n",
    "        fill_color='PuBu',\n",
    "        fill_opacity=0.5).add_to(toronto_map)  \n",
    "    \n",
    "toronto_map"
   ]
  },
  {
   "cell_type": "markdown",
   "metadata": {},
   "source": [
    "#### 13. focus on borough names with \"Toronto\" in them"
   ]
  },
  {
   "cell_type": "code",
   "execution_count": 32,
   "metadata": {},
   "outputs": [
    {
     "data": {
      "text/html": [
       "<div>\n",
       "<style scoped>\n",
       "    .dataframe tbody tr th:only-of-type {\n",
       "        vertical-align: middle;\n",
       "    }\n",
       "\n",
       "    .dataframe tbody tr th {\n",
       "        vertical-align: top;\n",
       "    }\n",
       "\n",
       "    .dataframe thead th {\n",
       "        text-align: right;\n",
       "    }\n",
       "</style>\n",
       "<table border=\"1\" class=\"dataframe\">\n",
       "  <thead>\n",
       "    <tr style=\"text-align: right;\">\n",
       "      <th></th>\n",
       "      <th>PostalCode</th>\n",
       "      <th>BoroughName</th>\n",
       "      <th>NeighborhoodName</th>\n",
       "      <th>Latitude</th>\n",
       "      <th>Longitude</th>\n",
       "    </tr>\n",
       "  </thead>\n",
       "  <tbody>\n",
       "    <tr>\n",
       "      <th>37</th>\n",
       "      <td>M4E</td>\n",
       "      <td>East Toronto</td>\n",
       "      <td>The Beaches</td>\n",
       "      <td>43.676357</td>\n",
       "      <td>-79.293031</td>\n",
       "    </tr>\n",
       "    <tr>\n",
       "      <th>41</th>\n",
       "      <td>M4K</td>\n",
       "      <td>East Toronto</td>\n",
       "      <td>The Danforth West, Riverdale</td>\n",
       "      <td>43.679557</td>\n",
       "      <td>-79.352188</td>\n",
       "    </tr>\n",
       "    <tr>\n",
       "      <th>42</th>\n",
       "      <td>M4L</td>\n",
       "      <td>East Toronto</td>\n",
       "      <td>The Beaches West, India Bazaar</td>\n",
       "      <td>43.668999</td>\n",
       "      <td>-79.315572</td>\n",
       "    </tr>\n",
       "    <tr>\n",
       "      <th>43</th>\n",
       "      <td>M4M</td>\n",
       "      <td>East Toronto</td>\n",
       "      <td>Studio District</td>\n",
       "      <td>43.659526</td>\n",
       "      <td>-79.340923</td>\n",
       "    </tr>\n",
       "    <tr>\n",
       "      <th>44</th>\n",
       "      <td>M4N</td>\n",
       "      <td>Central Toronto</td>\n",
       "      <td>Lawrence Park</td>\n",
       "      <td>43.728020</td>\n",
       "      <td>-79.388790</td>\n",
       "    </tr>\n",
       "    <tr>\n",
       "      <th>45</th>\n",
       "      <td>M4P</td>\n",
       "      <td>Central Toronto</td>\n",
       "      <td>Davisville North</td>\n",
       "      <td>43.712751</td>\n",
       "      <td>-79.390197</td>\n",
       "    </tr>\n",
       "    <tr>\n",
       "      <th>46</th>\n",
       "      <td>M4R</td>\n",
       "      <td>Central Toronto</td>\n",
       "      <td>North Toronto West</td>\n",
       "      <td>43.715383</td>\n",
       "      <td>-79.405678</td>\n",
       "    </tr>\n",
       "    <tr>\n",
       "      <th>47</th>\n",
       "      <td>M4S</td>\n",
       "      <td>Central Toronto</td>\n",
       "      <td>Davisville</td>\n",
       "      <td>43.704324</td>\n",
       "      <td>-79.388790</td>\n",
       "    </tr>\n",
       "    <tr>\n",
       "      <th>48</th>\n",
       "      <td>M4T</td>\n",
       "      <td>Central Toronto</td>\n",
       "      <td>Moore Park, Summerhill East</td>\n",
       "      <td>43.689574</td>\n",
       "      <td>-79.383160</td>\n",
       "    </tr>\n",
       "    <tr>\n",
       "      <th>49</th>\n",
       "      <td>M4V</td>\n",
       "      <td>Central Toronto</td>\n",
       "      <td>Deer Park, Forest Hill SE, Rathnelly, South Hi...</td>\n",
       "      <td>43.686412</td>\n",
       "      <td>-79.400049</td>\n",
       "    </tr>\n",
       "    <tr>\n",
       "      <th>50</th>\n",
       "      <td>M4W</td>\n",
       "      <td>Downtown Toronto</td>\n",
       "      <td>Rosedale</td>\n",
       "      <td>43.679563</td>\n",
       "      <td>-79.377529</td>\n",
       "    </tr>\n",
       "    <tr>\n",
       "      <th>51</th>\n",
       "      <td>M4X</td>\n",
       "      <td>Downtown Toronto</td>\n",
       "      <td>Cabbagetown, St. James Town</td>\n",
       "      <td>43.667967</td>\n",
       "      <td>-79.367675</td>\n",
       "    </tr>\n",
       "    <tr>\n",
       "      <th>52</th>\n",
       "      <td>M4Y</td>\n",
       "      <td>Downtown Toronto</td>\n",
       "      <td>Church and Wellesley</td>\n",
       "      <td>43.665860</td>\n",
       "      <td>-79.383160</td>\n",
       "    </tr>\n",
       "    <tr>\n",
       "      <th>53</th>\n",
       "      <td>M5A</td>\n",
       "      <td>Downtown Toronto</td>\n",
       "      <td>Harbourfront</td>\n",
       "      <td>43.654260</td>\n",
       "      <td>-79.360636</td>\n",
       "    </tr>\n",
       "    <tr>\n",
       "      <th>54</th>\n",
       "      <td>M5B</td>\n",
       "      <td>Downtown Toronto</td>\n",
       "      <td>Ryerson, Garden District</td>\n",
       "      <td>43.657162</td>\n",
       "      <td>-79.378937</td>\n",
       "    </tr>\n",
       "  </tbody>\n",
       "</table>\n",
       "</div>"
      ],
      "text/plain": [
       "   PostalCode       BoroughName  \\\n",
       "37        M4E      East Toronto   \n",
       "41        M4K      East Toronto   \n",
       "42        M4L      East Toronto   \n",
       "43        M4M      East Toronto   \n",
       "44        M4N   Central Toronto   \n",
       "45        M4P   Central Toronto   \n",
       "46        M4R   Central Toronto   \n",
       "47        M4S   Central Toronto   \n",
       "48        M4T   Central Toronto   \n",
       "49        M4V   Central Toronto   \n",
       "50        M4W  Downtown Toronto   \n",
       "51        M4X  Downtown Toronto   \n",
       "52        M4Y  Downtown Toronto   \n",
       "53        M5A  Downtown Toronto   \n",
       "54        M5B  Downtown Toronto   \n",
       "\n",
       "                                     NeighborhoodName   Latitude  Longitude  \n",
       "37                                        The Beaches  43.676357 -79.293031  \n",
       "41                       The Danforth West, Riverdale  43.679557 -79.352188  \n",
       "42                     The Beaches West, India Bazaar  43.668999 -79.315572  \n",
       "43                                    Studio District  43.659526 -79.340923  \n",
       "44                                      Lawrence Park  43.728020 -79.388790  \n",
       "45                                   Davisville North  43.712751 -79.390197  \n",
       "46                                 North Toronto West  43.715383 -79.405678  \n",
       "47                                         Davisville  43.704324 -79.388790  \n",
       "48                        Moore Park, Summerhill East  43.689574 -79.383160  \n",
       "49  Deer Park, Forest Hill SE, Rathnelly, South Hi...  43.686412 -79.400049  \n",
       "50                                           Rosedale  43.679563 -79.377529  \n",
       "51                        Cabbagetown, St. James Town  43.667967 -79.367675  \n",
       "52                               Church and Wellesley  43.665860 -79.383160  \n",
       "53                                       Harbourfront  43.654260 -79.360636  \n",
       "54                           Ryerson, Garden District  43.657162 -79.378937  "
      ]
     },
     "execution_count": 32,
     "metadata": {},
     "output_type": "execute_result"
    }
   ],
   "source": [
    "toronto_toronto = toronto_latlon[toronto_latlon['BoroughName'].str.contains('Toronto')]\n",
    "toronto_toronto.head(15)"
   ]
  },
  {
   "cell_type": "markdown",
   "metadata": {},
   "source": [
    "##### generate map using similar code to above full city map"
   ]
  },
  {
   "cell_type": "code",
   "execution_count": 33,
   "metadata": {},
   "outputs": [
    {
     "data": {
      "text/html": [
       "<div style=\"width:100%;\"><div style=\"position:relative;width:100%;height:0;padding-bottom:60%;\"><iframe src=\"data:text/html;charset=utf-8;base64,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\" style=\"position:absolute;width:100%;height:100%;left:0;top:0;border:none !important;\" allowfullscreen webkitallowfullscreen mozallowfullscreen></iframe></div></div>"
      ],
      "text/plain": [
       "<folium.folium.Map at 0x7ff95288eb38>"
      ]
     },
     "execution_count": 33,
     "metadata": {},
     "output_type": "execute_result"
    }
   ],
   "source": [
    "toronto_toronto_map = folium.Map(location=[lat, lon], zoom_start=10)\n",
    "\n",
    "\n",
    "for lt, ln, bor, nei in zip(toronto_toronto['Latitude'], toronto_toronto['Longitude'], \n",
    "                            toronto_toronto['BoroughName'], toronto_toronto['NeighborhoodName']):\n",
    "    label = '{}, {}'.format(nei, bor)\n",
    "    label = folium.Popup(label, parse_html=True)\n",
    "    folium.CircleMarker(\n",
    "        [lt, ln],\n",
    "        radius=2.5,\n",
    "        popup=label,\n",
    "        color='black',\n",
    "        fill=True,\n",
    "        fill_color='PuBu',\n",
    "        fill_opacity=0.5).add_to(toronto_toronto_map)  \n",
    "    \n",
    "toronto_toronto_map"
   ]
  },
  {
   "cell_type": "code",
   "execution_count": null,
   "metadata": {},
   "outputs": [],
   "source": []
  }
 ],
 "metadata": {
  "kernelspec": {
   "display_name": "Python",
   "language": "python",
   "name": "conda-env-python-py"
  },
  "language_info": {
   "codemirror_mode": {
    "name": "ipython",
    "version": 3
   },
   "file_extension": ".py",
   "mimetype": "text/x-python",
   "name": "python",
   "nbconvert_exporter": "python",
   "pygments_lexer": "ipython3",
   "version": "3.6.7"
  }
 },
 "nbformat": 4,
 "nbformat_minor": 4
}
